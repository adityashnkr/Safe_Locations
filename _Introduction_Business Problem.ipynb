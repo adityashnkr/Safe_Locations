{
 "cells": [
  {
   "cell_type": "markdown",
   "metadata": {},
   "source": [
    "<H1><B>SAFE LOCATIONS</H1>"
   ]
  },
  {
   "cell_type": "markdown",
   "metadata": {},
   "source": [
    "\n"
   ]
  },
  {
   "cell_type": "markdown",
   "metadata": {},
   "source": [
    "<h2>BUSINESS PROBLEM</h2>\n",
    "\n",
    "\n",
    "<b>San Francisco is a popular destination for tourists and they look for good accommodations that has a proximity to transport and a variety of amenities like restaurants.\n",
    "Many of them are unaware of the crimes in the neighborhood. Being unaware and naive roaming in a foreign country\n",
    "can cause a big problem.\n",
    "They might get mugged or injured"
   ]
  },
  {
   "cell_type": "markdown",
   "metadata": {},
   "source": [
    "<h2>PROBLEM TO BE RESOLVED</h2>\n",
    "\n",
    "1. Find hotel \n",
    "2. Amenities near the hotel\n",
    "3. Display crime in the area in a easy to understand manner\n",
    "4. Provide suggestions for sight seeing  "
   ]
  },
  {
   "cell_type": "markdown",
   "metadata": {},
   "source": [
    "<h2>INTRESETED AUDIENCE</h2>\n",
    "\n",
    "\n",
    "Tourists who are looking for accommodation in San Francisco and require proximity to metro and different amenities like bars, restaurants, etc.\n",
    "Tourist who is looking for a trendy place to visit and they can make educated decision dased on crime in the area and proximity to government authorities and safe places like a cafe where they can ask for help if they get mugged"
   ]
  },
  {
   "cell_type": "markdown",
   "metadata": {},
   "source": [
    "\n"
   ]
  },
  {
   "cell_type": "markdown",
   "metadata": {},
   "source": [
    "<h1>FACTS</h1>\n",
    "    \n",
    "\n",
    "A popular website exclaims \"With a crime rate of 64 per one thousand residents, San Francisco has one of the highest crime rates in America compared to all communities of all sizes - from the smallest towns to the very largest cities\"\n",
    "\n",
    "SOURCE:https://www.neighborhoodscout.com/ca/san-francisco/crime\n",
    " "
   ]
  }
 ],
 "metadata": {
  "kernelspec": {
   "display_name": "Python 3",
   "language": "python",
   "name": "python3"
  },
  "language_info": {
   "codemirror_mode": {
    "name": "ipython",
    "version": 3
   },
   "file_extension": ".py",
   "mimetype": "text/x-python",
   "name": "python",
   "nbconvert_exporter": "python",
   "pygments_lexer": "ipython3",
   "version": "3.7.4"
  }
 },
 "nbformat": 4,
 "nbformat_minor": 4
}
